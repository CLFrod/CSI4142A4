{
 "cells": [
  {
   "cell_type": "markdown",
   "metadata": {},
   "source": [
    "# CSI 4142 - Introduction to Data Science\n",
    "# Assignment 4: Unsupervised Learning, Clustering and Recommendations.\n",
    "\n",
    "Shacha Parker (300235525)\\\n",
    "Callum Frodsham and (300199446)\\\n",
    "Group 79\n",
    "\n",
    "### Setup Instructions To Reproduce this Notebook:\n",
    "(Step 1 Optional)\n",
    "1. Create a virtual python environment in the project directory (if you want) for all of the packages required:  \n",
    "``` \n",
    "python -m venv .venv\n",
    "```\n",
    "To enter the virutal environment: \n",
    "```\n",
    ".venv/Scripts/activate.ps1 # on windows\n",
    "source .venv/bin/activate # on mac/linux\n",
    "```\n",
    "2. Download all of the required packages (run in cmd/shell of choice):\n",
    "```\n",
    "pip install jupyter\n",
    "pip install ipykernel\n",
    "pip install pandas\n",
    "pip install numpy\n",
    "```\n",
    "3. VSCode: Ensure you have the correct python kernel selected!\n",
    "<br> \n",
    "If you are using a virtual environment, make sure to select the python interpreter for that virtual environment otherwise this will not work! If you have everything done globally, then just make sure the correct python kernel you are using is selected."
   ]
  },
  {
   "cell_type": "markdown",
   "metadata": {},
   "source": [
    "<h1>Dataset: </h1>\n",
    "Author: Rounak Banik\n",
    "<br>\n",
    "Purpose: The purpose of this dataset is to provide insight on a largage amount of movie data comprised of 45,000 movies released on or before July 2017 and 26 million accompanying ratings from 270,000 users of the GroupLens website. \n",
    "<br>\n",
    "Shape: This dataset is composed of 24 columns, 45466 rows.\n",
    "<br><br>\n",
    "Link: <a href=\"https://www.kaggle.com/datasets/rounakbanik/the-movies-dataset\"> The Movies Dataset</a>\n",
    "<br>\n",
    "\n",
    "Note: The \"homepage\", \"id\", \"imdb_id\", \"poster_path\" and \"video\" features will be omitted as they serve no purpose in notebook.\n",
    "<h3>Dataset Feature List: </h3>\n",
    "movies_metadata.csv:\n",
    "<ol>\n",
    "    <li>adult:\n",
    "    <br>\n",
    "    Feature Type: Categorical\n",
    "    <br>\n",
    "    Description: Indicates if the movie is X-rated or not.\n",
    "    </li>\n",
    "    <li>belongs_to_collection:\n",
    "    <br>\n",
    "    Feature Type: Categorical\n",
    "    <br>\n",
    "    Description: Stringified dictionary that indicates which collection of films the movie belongs to. Empty if no collection.\n",
    "    </li>\n",
    "    <li>budget:\n",
    "    <br>\n",
    "    Feature Type: Numerical\n",
    "    <br>\n",
    "    Description: The budget of the film in dollars (USD). 0 if budget is unknown.\n",
    "    </li>\n",
    "    <li>genres:\n",
    "    <br>\n",
    "    Feature Type: Categorical\n",
    "    <br>\n",
    "    Description: Stringified list of dictionaries, that include the films genre(s).\n",
    "    </li>\n",
    "    <li>original_language:\n",
    "    <br>\n",
    "    Feature Type: Categorical\n",
    "    <br>\n",
    "    Description: The film's language of origin.\n",
    "    </li>\n",
    "    <li>original_title:\n",
    "    <br>\n",
    "    Feature Type: Categorical\n",
    "    <br>\n",
    "    Description: The original title of the movie on release.\n",
    "    </li>\n",
    "    <li>overview:\n",
    "    <br>\n",
    "    Feature Type: Categorical\n",
    "    <br>\n",
    "    Description: A brief description of the movie.\n",
    "    </li>\n",
    "    <li>popularity:\n",
    "    <br>\n",
    "    Feature Type: Numerical\n",
    "    <br>\n",
    "    Description: The popularity score as assigned by TMDB.\n",
    "    </li>\n",
    "    <li>production_companies:\n",
    "    <br>\n",
    "    Feature Type: Categorical\n",
    "    <br>\n",
    "    Description: Stringified list of production companies involved in creating the movie.\n",
    "    </li>\n",
    "    <li>production_countries:\n",
    "    <br>\n",
    "    Feature Type: Categorical\n",
    "    <br>\n",
    "    Description: Stringified list of countries where the film was shot in.\n",
    "    </li>\n",
    "    <li>release_data:\n",
    "    <br>\n",
    "    Feature Type: Numerical\n",
    "    <br>\n",
    "    Description: The release date of the movie.\n",
    "    </li>\n",
    "    <li>revenue:\n",
    "    <br>\n",
    "    Feature Type: Numerical\n",
    "    <br>\n",
    "    Description: Total revenue of the film in dollars.\n",
    "    </li>\n",
    "    <li>runtime:\n",
    "    <br>\n",
    "    Feature Type: Numerical\n",
    "    <br>\n",
    "    Description: The runtime of the film in minutes.\n",
    "    </li>\n",
    "    <li>spoken_languages:\n",
    "    <br>\n",
    "    Feature Type: Categorical\n",
    "    <br>\n",
    "    Description: Stringified list of dictionaries of the languages spoken in the film.\n",
    "    </li>\n",
    "    <li>status:\n",
    "    <br>\n",
    "    Feature Type: Categorical\n",
    "    <br>\n",
    "    Description: The release status of the film, with categories: 'Released', 'Rumored', 'Post Production', 'In Production', 'Planned', 'Canceled'\n",
    "    </li>\n",
    "    <li>Tagline:\n",
    "    <br>\n",
    "    Feature Type: Categorical\n",
    "    <br>\n",
    "    Description: The tagline of the movie.\n",
    "    </li>\n",
    "    <li>title:\n",
    "    <br>\n",
    "    Feature Type: Categorical\n",
    "    <br>\n",
    "    Description: The title of the movie.\n",
    "    </li>\n",
    "    <li>vote_average:\n",
    "    <br>\n",
    "    Feature Type: Numerical\n",
    "    <br>\n",
    "    Description: The average rating of the movie.\n",
    "    </li>\n",
    "    <li>vote_count:\n",
    "    <br>\n",
    "    Feature Type: Numerical\n",
    "    <br>\n",
    "    Description: The number number of votes by users as counted by TMDB.\n",
    "    </li>\n",
    "</ol>"
   ]
  },
  {
   "cell_type": "code",
   "execution_count": null,
   "metadata": {},
   "outputs": [],
   "source": [
    "import pandas as pd\n",
    "import numpy as np\n",
    "import seaborn as sns\n",
    "\n",
    "# load the dataset\n",
    "dataset = pd.read_csv(\"movies_metadata.csv\")\n",
    "\n",
    "# drop the unused columns mentioned above:\n",
    "dataset.drop(columns=['homepage', 'id', 'imdb_id', 'poster_path', 'video'], inplace=True)\n",
    "print(dataset.columns)"
   ]
  },
  {
   "cell_type": "markdown",
   "metadata": {},
   "source": [
    "## Data Cleaning:"
   ]
  },
  {
   "cell_type": "code",
   "execution_count": null,
   "metadata": {},
   "outputs": [],
   "source": [
    "# get the general info of the dataset\n",
    "print(dataset.info())"
   ]
  },
  {
   "cell_type": "code",
   "execution_count": null,
   "metadata": {},
   "outputs": [],
   "source": [
    "# check which columns have missing values:\n",
    "missing_values = dataset.isna().sum()\n",
    "print(missing_values)\n"
   ]
  },
  {
   "cell_type": "markdown",
   "metadata": {},
   "source": [
    "<h5>Original language data imputation: </h5>\n",
    "The original language is missing 11 data points, however, we can manually impute using data from rotten tomatoes.\n",
    "Since rotten tomatoes does not have an easily accessible api, and using an API for only 11 data points would be a little silly, we shall manually get the data for each point!"
   ]
  },
  {
   "cell_type": "code",
   "execution_count": null,
   "metadata": {},
   "outputs": [],
   "source": [
    "# get the or language\n",
    "missing_language = dataset['original_language'].isna()\n",
    "\n",
    "# get the indices of the missing vals\n",
    "print(dataset[missing_language]['title'])  \n",
    "\n",
    "missing_language_input_vals = [ \"en\",\n",
    "                                \"en\",\n",
    "                                \"en\",\n",
    "                                \"en\",\n",
    "                                \"cs\",\n",
    "                                \"en\",\n",
    "                                \"zxx\", # silent film ISO code\n",
    "                                \"en\",\n",
    "                                \"en\",\n",
    "                                \"en\",\n",
    "                                \"zxx\" # also a silent film.\n",
    "                                ]\n",
    "# get the indices of the missing values.\n",
    "missing_language_indices = list(dataset[missing_language].index)\n",
    "\n",
    "# fill in the values:\n",
    "for i, row_num  in enumerate(missing_language_indices):\n",
    "    dataset.at[row_num, 'original_language'] = missing_language_input_vals[i]\n",
    "\n",
    "print(f\"New NaN Value count for the original language feature: {dataset['original_language'].isna().sum()}\")"
   ]
  },
  {
   "cell_type": "markdown",
   "metadata": {},
   "source": [
    "We are going to fill the 6 null title rows with their \"original_title\" counterpart. "
   ]
  },
  {
   "cell_type": "code",
   "execution_count": null,
   "metadata": {},
   "outputs": [],
   "source": [
    "# get the or language\n",
    "missing_titles = dataset['title'].isna()\n",
    "\n",
    "# lets see which titles are valid: \n",
    "dataset[missing_titles]['original_title']\n"
   ]
  },
  {
   "cell_type": "markdown",
   "metadata": {},
   "source": [
    "It is clear that some of the original title values are not valid, and fail the format checking. (because it also just so happens that these are the only 3 values that fail the format check of the 'original_title' feature) Thus, we will only update the 'title' feature for rows 19729, 29502, and 35586, and remove the other 3."
   ]
  },
  {
   "cell_type": "code",
   "execution_count": null,
   "metadata": {},
   "outputs": [],
   "source": [
    "# remove the missing titles.\n",
    "remove_titles = [35587, 29503,19730]\n",
    "dataset.drop(index=remove_titles, inplace=True)\n",
    "\n",
    "# get new missing_titles\n",
    "missing_titles = dataset['title'].isna()\n",
    "dataset[missing_titles]['original_title']\n",
    "\n",
    "# update the other 3 missing title values using the original title.\n",
    "dataset.loc[missing_titles, 'title'] = dataset.loc[missing_titles, 'original_title'] \n",
    "\n",
    "# show the fixed titles!\n",
    "dataset[missing_titles]['title']"
   ]
  },
  {
   "cell_type": "markdown",
   "metadata": {},
   "source": [
    "Row Removal Rationalization: <br>\n",
    "Since the dataset has 45000 some rows, we will be able to remove a small amount of rows without affecting the quality of the data. \n",
    "We will be removing all NULL rows in these features: popularity, production_countries, production_companies, release_date, status, vote_average, vote_count, and runtime.\n",
    "\n",
    "Runtime has a lot of missing values, specifically, 242. These will be removed, but overview will not because that would include 1/45th the dataset approximately, and sometimes movies don't have a succint overview. Thus, all of the missing overview values will be kept. "
   ]
  },
  {
   "cell_type": "code",
   "execution_count": null,
   "metadata": {},
   "outputs": [],
   "source": [
    "# remove them all in one fell swoop:\n",
    "dataset.dropna(subset=['popularity', 'production_countries', 'production_companies', 'release_date', 'status', 'vote_average', 'vote_count','runtime'], inplace=True)\n",
    "\n",
    "dataset.isna().sum()"
   ]
  },
  {
   "cell_type": "markdown",
   "metadata": {},
   "source": [
    "## EDA:"
   ]
  },
  {
   "cell_type": "markdown",
   "metadata": {},
   "source": [
    "## Study 1: Similarity Measures"
   ]
  },
  {
   "cell_type": "markdown",
   "metadata": {},
   "source": [
    "## Study 2: Clustering"
   ]
  }
 ],
 "metadata": {
  "kernelspec": {
   "display_name": ".venv",
   "language": "python",
   "name": "python3"
  },
  "language_info": {
   "codemirror_mode": {
    "name": "ipython",
    "version": 3
   },
   "file_extension": ".py",
   "mimetype": "text/x-python",
   "name": "python",
   "nbconvert_exporter": "python",
   "pygments_lexer": "ipython3",
   "version": "3.12.4"
  }
 },
 "nbformat": 4,
 "nbformat_minor": 2
}
